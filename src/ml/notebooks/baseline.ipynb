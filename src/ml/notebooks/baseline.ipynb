{
 "cells": [
  {
   "cell_type": "code",
   "execution_count": null,
   "metadata": {},
   "outputs": [],
   "source": [
    "import lightgbm as lgb\n",
    "import numpy as np\n",
    "import pandas as pd\n",
    "from tqdm import tqdm"
   ]
  },
  {
   "cell_type": "markdown",
   "metadata": {},
   "source": [
    "### v1"
   ]
  },
  {
   "cell_type": "code",
   "execution_count": null,
   "metadata": {},
   "outputs": [],
   "source": [
    "class ReorderRateClassificationModel:\n",
    "    def __init__(\n",
    "        self,\n",
    "        user_id=int,\n",
    "        orders_df=pd.DataFrame,\n",
    "        order_products_df=pd.DataFrame,\n",
    "        top_reodered_items_n: int = 10,\n",
    "    ):\n",
    "        self.top_reordered_items_n = top_reodered_items_n\n",
    "\n",
    "        self._get_orders(orders_df)\n",
    "        self._get_order_products(order_products_df)\n",
    "\n",
    "        self.user_id = user_id\n",
    "        self._get_user_features(self.user_id)\n",
    "\n",
    "        self._get_products_features()\n",
    "\n",
    "    def _get_orders(self, orders_df: pd.DataFrame):\n",
    "        self.orders = orders_df  # меняется на запрос\n",
    "\n",
    "    def _get_order_products(self, order_products_df: pd.DataFrame):\n",
    "        self.orders_products = order_products_df  # меняется на запрос\n",
    "\n",
    "    def _get_last_order_products(self, user_id: int) -> pd.Series:\n",
    "        prior_orders = self.orders[self.orders[\"eval_set\"] == \"prior\"]\n",
    "        prior_user_orders = prior_orders[self.orders[\"user_id\"] == user_id]\n",
    "\n",
    "        if prior_user_orders.empty:\n",
    "            return pd.Series([], dtype=int)\n",
    "\n",
    "        last_prior_user_order_id = prior_user_orders.loc[\n",
    "            prior_user_orders[\"order_number\"].idxmax(), \"order_id\"\n",
    "        ]\n",
    "        last_order_products = self.orders_products[\n",
    "            self.orders_products[\"order_id\"] == last_prior_user_order_id\n",
    "        ][\"product_id\"]\n",
    "\n",
    "        return last_order_products\n",
    "\n",
    "    def _get_top_reordered_items(self) -> pd.Series:\n",
    "        products_agg = (\n",
    "            self.orders_products.groupby(\"product_id\")\n",
    "            .agg(\n",
    "                {\n",
    "                    \"reordered\": \"mean\",\n",
    "                }\n",
    "            )\n",
    "            .rename(\n",
    "                columns={\n",
    "                    \"reordered\": \"product_reorder_rate\",\n",
    "                }\n",
    "            )\n",
    "        )\n",
    "        products_agg.reset_index(inplace=True)\n",
    "\n",
    "        top_reordered_items = products_agg.sort_values(\n",
    "            by=\"product_reorder_rate\", ascending=False\n",
    "        )[: self.top_reordered_items_n]\n",
    "\n",
    "        return top_reordered_items[\"product_id\"]\n",
    "\n",
    "    def _get_products_features(self):\n",
    "        self.df_products_features = pd.DataFrame()\n",
    "\n",
    "        top_reordered_items = self._get_top_reordered_items().values\n",
    "        self.df_products_features[\"top_reordered\"] = top_reordered_items\n",
    "\n",
    "    def _get_user_features(self, user_id: int):\n",
    "        self.df_user_features = pd.DataFrame()\n",
    "\n",
    "        last_order_products = self._get_last_order_products(user_id).values\n",
    "        self.df_user_features[\"last_user_order\"] = last_order_products\n",
    "\n",
    "    def predict(self, product_id: int, user_id: int = None):\n",
    "        # Меняется на\n",
    "        #     features = self.get_features(user_id. product_id)\n",
    "        #     return lgb_model.predict(features)\n",
    "\n",
    "        if user_id is not None:\n",
    "            self.user_id = user_id\n",
    "            self._get_user_features(self.user_id)\n",
    "\n",
    "        if product_id in self.df_user_features[\"last_user_order\"].values:\n",
    "            return True\n",
    "\n",
    "        if product_id in self.df_products_features[\"top_reordered\"].values:\n",
    "            return True\n",
    "\n",
    "        return False"
   ]
  },
  {
   "cell_type": "code",
   "execution_count": null,
   "metadata": {},
   "outputs": [],
   "source": [
    "data_path = \"../data/\"\n",
    "\n",
    "orders_df = pd.read_csv(data_path + \"orders.csv\")\n",
    "order_products_df = pd.read_csv(data_path + \"order_products__prior.csv\")"
   ]
  },
  {
   "cell_type": "code",
   "execution_count": null,
   "metadata": {},
   "outputs": [],
   "source": [
    "clf_model = ReorderRateClassificationModel(\n",
    "    user_id=1, orders_df=orders_df, order_products_df=order_products_df\n",
    ")"
   ]
  },
  {
   "cell_type": "code",
   "execution_count": null,
   "metadata": {},
   "outputs": [],
   "source": [
    "clf_model.predict(6433)"
   ]
  },
  {
   "cell_type": "code",
   "execution_count": null,
   "metadata": {},
   "outputs": [],
   "source": [
    "class ReorderRateRecommendationModel:\n",
    "    def __init__(\n",
    "        self,\n",
    "        user_id=int,\n",
    "        orders_df=pd.DataFrame,\n",
    "        order_products_df=pd.DataFrame,\n",
    "        top_reodered_items_n: int = 10,\n",
    "    ):\n",
    "        self.user_id = user_id\n",
    "\n",
    "        self.clf_model = ReorderRateClassificationModel(\n",
    "            user_id, orders_df, order_products_df, top_reodered_items_n\n",
    "        )\n",
    "\n",
    "    def predict(self):\n",
    "        recommendations_list = []\n",
    "        products_id = self.clf_model.orders[\"order_id\"].values\n",
    "        for product_id in tqdm(products_id):\n",
    "            pred = self.clf_model.predict(product_id)\n",
    "            if pred:\n",
    "                recommendations_list.append(product_id)\n",
    "\n",
    "        return np.random.choice(\n",
    "            recommendations_list, size=clf_model.top_reordered_items_n, replace=False\n",
    "        )"
   ]
  },
  {
   "cell_type": "code",
   "execution_count": null,
   "metadata": {},
   "outputs": [],
   "source": [
    "rec_model = ReorderRateRecommendationModel(\n",
    "    user_id=1, orders_df=orders_df, order_products_df=order_products_df\n",
    ")"
   ]
  },
  {
   "cell_type": "code",
   "execution_count": null,
   "metadata": {},
   "outputs": [],
   "source": [
    "rec_model.predict()\n"
   ]
  },
  {
   "cell_type": "markdown",
   "metadata": {},
   "source": [
    "### v2"
   ]
  },
  {
   "cell_type": "code",
   "execution_count": null,
   "metadata": {},
   "outputs": [],
   "source": [
    "data_path = \"../data/\"\n",
    "\n",
    "orders_df = pd.read_csv(data_path + \"orders.csv\")\n",
    "order_products_prior_df = pd.read_csv(data_path + \"order_products__prior.csv\")"
   ]
  },
  {
   "cell_type": "code",
   "execution_count": null,
   "metadata": {},
   "outputs": [],
   "source": [
    "print(\"add order info to priors\")\n",
    "orders_df.set_index(\"order_id\", inplace=True, drop=False)\n",
    "order_products_prior_df = order_products_prior_df.join(orders_df, on=\"order_id\", rsuffix=\"_\")\n",
    "order_products_prior_df.drop(\"order_id_\", inplace=True, axis=1)"
   ]
  },
  {
   "cell_type": "code",
   "execution_count": null,
   "metadata": {},
   "outputs": [],
   "source": [
    "order_products_prior_df"
   ]
  },
  {
   "cell_type": "code",
   "execution_count": null,
   "metadata": {},
   "outputs": [],
   "source": [
    "users_priod_products_df = pd.DataFrame()\n",
    "users_priod_products_df[\"all_products\"] = order_products_prior_df.groupby(\"user_id\")[\"product_id\"].apply(set)"
   ]
  },
  {
   "cell_type": "code",
   "execution_count": null,
   "metadata": {},
   "outputs": [],
   "source": [
    "users_priod_products_df.head()"
   ]
  },
  {
   "cell_type": "code",
   "execution_count": null,
   "metadata": {},
   "outputs": [],
   "source": [
    "train_orders = orders_df[orders_df[\"eval_set\"] == \"train\"]"
   ]
  },
  {
   "cell_type": "code",
   "execution_count": null,
   "metadata": {},
   "outputs": [],
   "source": [
    "def get_all_pairs(selected_orders, is_train: bool = False):\n",
    "\n",
    "    order_list = []\n",
    "    product_list = []\n",
    "    labels = []\n",
    "\n",
    "    for row in selected_orders.itertuples():\n",
    "        order_id = row.order_id\n",
    "        user_id = row.user_id\n",
    "        user_products = users_priod_products_df.loc[user_id, \"all_products\"]\n",
    "        product_list += user_products\n",
    "        order_list += [order_id] * len(user_products)\n",
    "\n",
    "        if is_train:\n",
    "            labels += [order_products_prior_df.loc[order_id, product][\"reordered\"] for product in user_products]\n",
    "\n",
    "    pairs = pd.DataFrame({\n",
    "        \"order_id\": order_list,\n",
    "        \"product_id\": product_list\n",
    "    }, dtype=np.int32)\n",
    "\n",
    "    pairs[\"user_id\"] = pairs.order_id.map(selected_orders.user_id)\n",
    "    pairs.drop(columns=[\"order_id\"], inplace=True)\n",
    "\n",
    "    return pairs, labels"
   ]
  },
  {
   "cell_type": "code",
   "execution_count": null,
   "metadata": {},
   "outputs": [],
   "source": [
    "order_products_prior_df.head()"
   ]
  },
  {
   "cell_type": "code",
   "execution_count": null,
   "metadata": {},
   "outputs": [],
   "source": [
    "order_products_prior_df.loc[(order_products_prior_df[\"order_id\"] == 2) & (order_products_prior_df[\"product_id\"] == 33120)][\"reordered\"]"
   ]
  },
  {
   "cell_type": "code",
   "execution_count": null,
   "metadata": {},
   "outputs": [],
   "source": [
    "pairs = get_all_pairs(train_orders, True)"
   ]
  },
  {
   "cell_type": "code",
   "execution_count": null,
   "metadata": {},
   "outputs": [],
   "source": [
    "pairs"
   ]
  },
  {
   "cell_type": "code",
   "execution_count": null,
   "metadata": {},
   "outputs": [],
   "source": [
    "def get_features(pairs):\n",
    "\n",
    "    products_agg = (\n",
    "        order_products_prior_df.groupby(\"product_id\")\n",
    "        .agg(\n",
    "            {\n",
    "                \"reordered\": \"mean\",\n",
    "            }\n",
    "        )\n",
    "        .rename(\n",
    "            columns={\n",
    "                \"reordered\": \"product_reorder_rate\",\n",
    "            }\n",
    "        )\n",
    "    )\n",
    "    products_agg.reset_index(inplace=True)\n",
    "\n",
    "    pairs[\"product_reorder_rate\"] = pairs[\"product_id\"].map(\n",
    "        products_agg.set_index(\"product_id\")[\"product_reorder_rate\"]\n",
    "    )\n",
    "\n",
    "    return pairs\n"
   ]
  },
  {
   "cell_type": "code",
   "execution_count": null,
   "metadata": {},
   "outputs": [],
   "source": [
    "features = get_features(pairs)"
   ]
  },
  {
   "cell_type": "code",
   "execution_count": null,
   "metadata": {},
   "outputs": [],
   "source": [
    "features[features[\"product_id\"] == 196]"
   ]
  },
  {
   "cell_type": "code",
   "execution_count": null,
   "metadata": {},
   "outputs": [],
   "source": [
    "class RecommendationModel:\n",
    "    def __init__(\n",
    "        self,\n",
    "        orders_df: pd.DataFrame,\n",
    "        order_products_df: pd.DataFrame,\n",
    "        top_k_products: int = 100,\n",
    "        recommendations_n: int = 10,\n",
    "    ):\n",
    "        self.orders = orders_df\n",
    "        self.order_products = order_products_df\n",
    "        self.top_k_products = top_k_products\n",
    "        self.recommendations_n = recommendations_n\n",
    "\n",
    "        self.products_agg = (\n",
    "            self.order_products.groupby(\"product_id\")\n",
    "            .agg(\n",
    "                {\n",
    "                    \"reordered\": \"mean\",\n",
    "                }\n",
    "            )\n",
    "            .rename(\n",
    "                columns={\n",
    "                    \"reordered\": \"product_reorder_rate\",\n",
    "                }\n",
    "            )\n",
    "        )\n",
    "        self.products_agg.reset_index(inplace=True)\n",
    "\n",
    "        self.top_reordered_products = (\n",
    "            self.products_agg.sort_values(by=\"product_reorder_rate\", ascending=False)\n",
    "            .head(top_k_products)[\"product_id\"]\n",
    "            .tolist()\n",
    "        )\n",
    "\n",
    "    def _get_user_candidates(self, user_id):\n",
    "        # Получаем последние заказы пользователя\n",
    "        user_orders = self.orders[self.orders[\"user_id\"] == user_id]\n",
    "        prior_orders = user_orders[user_orders[\"eval_set\"] == \"prior\"]\n",
    "\n",
    "        if prior_orders.empty:\n",
    "            return self.top_reordered_products\n",
    "\n",
    "        # Товары из последних заказов пользователя\n",
    "        last_order_products = self.order_products[\n",
    "            self.order_products[\"order_id\"].isin(prior_orders[\"order_id\"])\n",
    "        ][\"product_id\"].tolist()\n",
    "\n",
    "        # Комбинируем с топ-товарами\n",
    "        candidates = list(set(last_order_products + self.top_reordered_products))\n",
    "        return candidates\n",
    "\n",
    "    def predict(self, user_id):\n",
    "        # Получаем список кандидатов для пользователя\n",
    "        candidates = self._get_user_candidates(user_id)\n",
    "\n",
    "        # Составляем DataFrame с фичами для кандидатов\n",
    "        features = self._generate_features(user_id, candidates)\n",
    "\n",
    "        # Замените self.model.predict(features) на вашу обученную ML-модель\n",
    "        predictions = np.random.rand(len(features))  # пример случайного предсказания\n",
    "\n",
    "        # Ранжируем по предсказанным вероятностям и возвращаем топ-N\n",
    "        top_indices = predictions.argsort()[-self.recommendations_n :][::-1]\n",
    "        recommended_products = [candidates[i] for i in top_indices]\n",
    "        return recommended_products\n",
    "\n",
    "    def _generate_features(self, user_id, candidates):\n",
    "        # Пример генерации фичей (замените на свои):\n",
    "        features = pd.DataFrame({\"product_id\": candidates})\n",
    "        features[\"product_reorder_rate\"] = features[\"product_id\"].map(\n",
    "            self.products_agg.set_index(\"product_id\")[\"product_reorder_rate\"]\n",
    "        )\n",
    "        # Добавьте больше фичей, если нужно\n",
    "        return features"
   ]
  },
  {
   "cell_type": "code",
   "execution_count": null,
   "metadata": {},
   "outputs": [],
   "source": [
    "rec_model = RecommendationModel(orders_df, order_products_df)"
   ]
  },
  {
   "cell_type": "code",
   "execution_count": null,
   "metadata": {},
   "outputs": [],
   "source": [
    "rec_model.predict(1)"
   ]
  },
  {
   "cell_type": "code",
   "execution_count": null,
   "metadata": {},
   "outputs": [],
   "source": []
  },
  {
   "cell_type": "markdown",
   "metadata": {},
   "source": []
  }
 ],
 "metadata": {
  "kernelspec": {
   "display_name": "venv",
   "language": "python",
   "name": "python3"
  },
  "language_info": {
   "codemirror_mode": {
    "name": "ipython",
    "version": 3
   },
   "file_extension": ".py",
   "mimetype": "text/x-python",
   "name": "python",
   "nbconvert_exporter": "python",
   "pygments_lexer": "ipython3",
   "version": "3.10.12"
  }
 },
 "nbformat": 4,
 "nbformat_minor": 2
}
