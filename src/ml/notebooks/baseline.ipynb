{
 "cells": [
  {
   "cell_type": "code",
   "execution_count": null,
   "metadata": {},
   "outputs": [],
   "source": [
    "import lightgbm as lgb\n",
    "import numpy as np\n",
    "import pandas as pd\n",
    "from tqdm import tqdm"
   ]
  },
  {
   "cell_type": "markdown",
   "metadata": {},
   "source": [
    "### v1"
   ]
  },
  {
   "cell_type": "code",
   "execution_count": null,
   "metadata": {},
   "outputs": [],
   "source": [
    "class ReorderRateClassificationModel:\n",
    "    def __init__(\n",
    "        self,\n",
    "        user_id=int,\n",
    "        orders_df=pd.DataFrame,\n",
    "        order_products_df=pd.DataFrame,\n",
    "        top_reodered_items_n: int = 10,\n",
    "    ):\n",
    "        self.top_reordered_items_n = top_reodered_items_n\n",
    "\n",
    "        self._get_orders(orders_df)\n",
    "        self._get_order_products(order_products_df)\n",
    "\n",
    "        self.user_id = user_id\n",
    "        self._get_user_features(self.user_id)\n",
    "\n",
    "        self._get_products_features()\n",
    "\n",
    "    def _get_orders(self, orders_df: pd.DataFrame):\n",
    "        self.orders = orders_df  # меняется на запрос\n",
    "\n",
    "    def _get_order_products(self, order_products_df: pd.DataFrame):\n",
    "        self.orders_products = order_products_df  # меняется на запрос\n",
    "\n",
    "    def _get_last_order_products(self, user_id: int) -> pd.Series:\n",
    "        prior_orders = self.orders[self.orders[\"eval_set\"] == \"prior\"]\n",
    "        prior_user_orders = prior_orders[self.orders[\"user_id\"] == user_id]\n",
    "\n",
    "        if prior_user_orders.empty:\n",
    "            return pd.Series([], dtype=int)\n",
    "\n",
    "        last_prior_user_order_id = prior_user_orders.loc[\n",
    "            prior_user_orders[\"order_number\"].idxmax(), \"order_id\"\n",
    "        ]\n",
    "        last_order_products = self.orders_products[\n",
    "            self.orders_products[\"order_id\"] == last_prior_user_order_id\n",
    "        ][\"product_id\"]\n",
    "\n",
    "        return last_order_products\n",
    "\n",
    "    def _get_top_reordered_items(self) -> pd.Series:\n",
    "        products_agg = (\n",
    "            self.orders_products.groupby(\"product_id\")\n",
    "            .agg(\n",
    "                {\n",
    "                    \"reordered\": \"mean\",\n",
    "                }\n",
    "            )\n",
    "            .rename(\n",
    "                columns={\n",
    "                    \"reordered\": \"product_reorder_rate\",\n",
    "                }\n",
    "            )\n",
    "        )\n",
    "        products_agg.reset_index(inplace=True)\n",
    "\n",
    "        top_reordered_items = products_agg.sort_values(\n",
    "            by=\"product_reorder_rate\", ascending=False\n",
    "        )[: self.top_reordered_items_n]\n",
    "\n",
    "        return top_reordered_items[\"product_id\"]\n",
    "\n",
    "    def _get_products_features(self):\n",
    "        self.df_products_features = pd.DataFrame()\n",
    "\n",
    "        top_reordered_items = self._get_top_reordered_items().values\n",
    "        self.df_products_features[\"top_reordered\"] = top_reordered_items\n",
    "\n",
    "    def _get_user_features(self, user_id: int):\n",
    "        self.df_user_features = pd.DataFrame()\n",
    "\n",
    "        last_order_products = self._get_last_order_products(user_id).values\n",
    "        self.df_user_features[\"last_user_order\"] = last_order_products\n",
    "\n",
    "    def predict(self, product_id: int, user_id: int = None):\n",
    "        # Меняется на\n",
    "        #     features = self.get_features(user_id. product_id)\n",
    "        #     return lgb_model.predict(features)\n",
    "\n",
    "        if user_id is not None:\n",
    "            self.user_id = user_id\n",
    "            self._get_user_features(self.user_id)\n",
    "\n",
    "        if product_id in self.df_user_features[\"last_user_order\"].values:\n",
    "            return True\n",
    "\n",
    "        if product_id in self.df_products_features[\"top_reordered\"].values:\n",
    "            return True\n",
    "\n",
    "        return False"
   ]
  },
  {
   "cell_type": "code",
   "execution_count": null,
   "metadata": {},
   "outputs": [],
   "source": [
    "data_path = \"../data/\"\n",
    "\n",
    "orders_df = pd.read_csv(data_path + \"orders.csv\")\n",
    "order_products_df = pd.read_csv(data_path + \"order_products__prior.csv\")"
   ]
  },
  {
   "cell_type": "code",
   "execution_count": null,
   "metadata": {},
   "outputs": [],
   "source": [
    "clf_model = ReorderRateClassificationModel(\n",
    "    user_id=1, orders_df=orders_df, order_products_df=order_products_df\n",
    ")"
   ]
  },
  {
   "cell_type": "code",
   "execution_count": null,
   "metadata": {},
   "outputs": [],
   "source": [
    "clf_model.predict(6433)"
   ]
  },
  {
   "cell_type": "code",
   "execution_count": null,
   "metadata": {},
   "outputs": [],
   "source": [
    "class ReorderRateRecommendationModel:\n",
    "    def __init__(\n",
    "        self,\n",
    "        user_id=int,\n",
    "        orders_df=pd.DataFrame,\n",
    "        order_products_df=pd.DataFrame,\n",
    "        top_reodered_items_n: int = 10,\n",
    "    ):\n",
    "        self.user_id = user_id\n",
    "\n",
    "        self.clf_model = ReorderRateClassificationModel(\n",
    "            user_id, orders_df, order_products_df, top_reodered_items_n\n",
    "        )\n",
    "\n",
    "    def predict(self):\n",
    "        recommendations_list = []\n",
    "        products_id = self.clf_model.orders[\"order_id\"].values\n",
    "        for product_id in tqdm(products_id):\n",
    "            pred = self.clf_model.predict(product_id)\n",
    "            if pred:\n",
    "                recommendations_list.append(product_id)\n",
    "\n",
    "        return np.random.choice(\n",
    "            recommendations_list, size=clf_model.top_reordered_items_n, replace=False\n",
    "        )"
   ]
  },
  {
   "cell_type": "code",
   "execution_count": null,
   "metadata": {},
   "outputs": [],
   "source": [
    "rec_model = ReorderRateRecommendationModel(\n",
    "    user_id=1, orders_df=orders_df, order_products_df=order_products_df\n",
    ")"
   ]
  },
  {
   "cell_type": "code",
   "execution_count": null,
   "metadata": {},
   "outputs": [],
   "source": [
    "rec_model.predict()\n"
   ]
  },
  {
   "cell_type": "code",
   "execution_count": null,
   "metadata": {},
   "outputs": [],
   "source": []
  },
  {
   "cell_type": "markdown",
   "metadata": {},
   "source": [
    "### v2"
   ]
  },
  {
   "cell_type": "code",
   "execution_count": null,
   "metadata": {},
   "outputs": [],
   "source": [
    "import lightgbm as lgb\n",
    "import numpy as np\n",
    "import pandas as pd\n",
    "\n",
    "IDIR = \"../data/\""
   ]
  },
  {
   "cell_type": "markdown",
   "metadata": {},
   "source": [
    "Загрузка таблиц (меняется на запросы к бд)"
   ]
  },
  {
   "cell_type": "code",
   "execution_count": null,
   "metadata": {},
   "outputs": [],
   "source": [
    "def get_data():\n",
    "    priors = pd.read_csv(\n",
    "        IDIR + \"order_products__prior.csv\",\n",
    "        dtype={\n",
    "            \"order_id\": np.int32,\n",
    "            \"product_id\": np.uint16,\n",
    "            \"add_to_cart_order\": np.int16,\n",
    "            \"reordered\": np.int8,\n",
    "        },\n",
    "    )\n",
    "\n",
    "    print(\"loading train\")\n",
    "    train = pd.read_csv(\n",
    "        IDIR + \"order_products__train.csv\",\n",
    "        dtype={\n",
    "            \"order_id\": np.int32,\n",
    "            \"product_id\": np.uint16,\n",
    "            \"add_to_cart_order\": np.int16,\n",
    "            \"reordered\": np.int8,\n",
    "        },\n",
    "    )\n",
    "\n",
    "    print(\"loading orders\")\n",
    "    orders = pd.read_csv(\n",
    "        IDIR + \"orders.csv\",\n",
    "        dtype={\n",
    "            \"order_id\": np.int32,\n",
    "            \"user_id\": np.int32,\n",
    "            \"eval_set\": \"category\",\n",
    "            \"order_number\": np.int16,\n",
    "            \"order_dow\": np.int8,\n",
    "            \"order_hour_of_day\": np.int8,\n",
    "            \"days_since_prior_order\": np.float32,\n",
    "        },\n",
    "    )\n",
    "\n",
    "    print(\"loading products\")\n",
    "    products = pd.read_csv(\n",
    "        IDIR + \"products.csv\",\n",
    "        dtype={\n",
    "            \"product_id\": np.uint16,\n",
    "            \"order_id\": np.int32,\n",
    "            \"aisle_id\": np.uint8,\n",
    "            \"department_id\": np.uint8,\n",
    "        },\n",
    "        usecols=[\"product_id\", \"aisle_id\", \"department_id\"],\n",
    "    )\n",
    "\n",
    "    print(\"priors {}: {}\".format(priors.shape, \", \".join(priors.columns)))\n",
    "    print(\"orders {}: {}\".format(orders.shape, \", \".join(orders.columns)))\n",
    "    print(\"train {}: {}\".format(train.shape, \", \".join(train.columns)))\n",
    "\n",
    "    return priors, train, orders, products"
   ]
  },
  {
   "cell_type": "code",
   "execution_count": null,
   "metadata": {},
   "outputs": [],
   "source": [
    "priors, train, orders, products = get_data()"
   ]
  },
  {
   "cell_type": "markdown",
   "metadata": {},
   "source": [
    "Добавление информации об orders в prior"
   ]
  },
  {
   "cell_type": "code",
   "execution_count": null,
   "metadata": {},
   "outputs": [],
   "source": [
    "def extend_priors(priors, orders):\n",
    "    orders.set_index(\"order_id\", inplace=True, drop=False)\n",
    "    priors = priors.join(orders, on=\"order_id\", rsuffix=\"_\")\n",
    "    priors.drop(\"order_id_\", inplace=True, axis=1)\n",
    "\n",
    "    return priors"
   ]
  },
  {
   "cell_type": "code",
   "execution_count": null,
   "metadata": {},
   "outputs": [],
   "source": [
    "priors = extend_priors(priors, orders)"
   ]
  },
  {
   "cell_type": "code",
   "execution_count": null,
   "metadata": {},
   "outputs": [],
   "source": [
    "priors"
   ]
  },
  {
   "cell_type": "markdown",
   "metadata": {},
   "source": [
    "Фичи продуктов"
   ]
  },
  {
   "cell_type": "code",
   "execution_count": null,
   "metadata": {},
   "outputs": [],
   "source": [
    "def get_product_features(priors, products):\n",
    "    prods = pd.DataFrame()\n",
    "    prods[\"orders\"] = priors.groupby(priors.product_id).size().astype(np.int32)\n",
    "    prods[\"reorders\"] = (\n",
    "        priors[\"reordered\"].groupby(priors.product_id).sum().astype(np.float32)\n",
    "    )\n",
    "    prods[\"reorder_rate\"] = (prods.reorders / prods.orders).astype(np.float32)\n",
    "    products = products.join(prods, on=\"product_id\")\n",
    "    products.set_index(\"product_id\", drop=False, inplace=True)\n",
    "    del prods\n",
    "\n",
    "    return products"
   ]
  },
  {
   "cell_type": "code",
   "execution_count": null,
   "metadata": {},
   "outputs": [],
   "source": [
    "products = get_product_features(priors, products)"
   ]
  },
  {
   "cell_type": "code",
   "execution_count": null,
   "metadata": {},
   "outputs": [],
   "source": [
    "products"
   ]
  },
  {
   "cell_type": "markdown",
   "metadata": {},
   "source": [
    "Фичи пользователей"
   ]
  },
  {
   "cell_type": "code",
   "execution_count": null,
   "metadata": {},
   "outputs": [],
   "source": [
    "def get_user_features(priors, orders):\n",
    "    usr = pd.DataFrame()\n",
    "    usr[\"average_days_between_orders\"] = (\n",
    "        orders.groupby(\"user_id\")[\"days_since_prior_order\"].mean().astype(np.float32)\n",
    "    )\n",
    "    usr[\"nb_orders\"] = orders.groupby(\"user_id\").size().astype(np.int16)\n",
    "\n",
    "    users = pd.DataFrame()\n",
    "    users[\"total_items\"] = priors.groupby(\"user_id\").size().astype(np.int16)\n",
    "    users[\"all_products\"] = priors.groupby(\"user_id\")[\"product_id\"].apply(set)\n",
    "    users[\"total_distinct_items\"] = (users.all_products.map(len)).astype(np.int16)\n",
    "\n",
    "    users = users.join(usr)\n",
    "    del usr\n",
    "\n",
    "    users[\"average_basket\"] = (users.total_items / users.nb_orders).astype(np.float32)\n",
    "\n",
    "    return users"
   ]
  },
  {
   "cell_type": "code",
   "execution_count": null,
   "metadata": {},
   "outputs": [],
   "source": [
    "users = get_user_features(priors, orders)"
   ]
  },
  {
   "cell_type": "code",
   "execution_count": null,
   "metadata": {},
   "outputs": [],
   "source": [
    "users"
   ]
  },
  {
   "cell_type": "markdown",
   "metadata": {},
   "source": [
    "Фичи пользователь-продукт"
   ]
  },
  {
   "cell_type": "code",
   "execution_count": null,
   "metadata": {},
   "outputs": [],
   "source": [
    "def get_userXproduct_features(priors):\n",
    "    priors[\"user_product\"] = priors.product_id + priors.user_id * 100000\n",
    "\n",
    "    d = dict()\n",
    "    for row in priors.itertuples():\n",
    "        z = row.user_product\n",
    "        if z not in d:\n",
    "            d[z] = (1, (row.order_number, row.order_id), row.add_to_cart_order)\n",
    "        else:\n",
    "            d[z] = (\n",
    "                d[z][0] + 1,\n",
    "                max(d[z][1], (row.order_number, row.order_id)),\n",
    "                d[z][2] + row.add_to_cart_order,\n",
    "            )\n",
    "\n",
    "    userXproduct = pd.DataFrame.from_dict(d, orient=\"index\")\n",
    "    del d\n",
    "\n",
    "    userXproduct.columns = [\"nb_orders\", \"last_order_id\", \"sum_pos_in_cart\"]\n",
    "    userXproduct.nb_orders = userXproduct.nb_orders.astype(np.int16)\n",
    "    userXproduct.last_order_id = userXproduct.last_order_id.map(lambda x: x[1]).astype(\n",
    "        np.int32\n",
    "    )\n",
    "    userXproduct.sum_pos_in_cart = userXproduct.sum_pos_in_cart.astype(np.int16)\n",
    "    print(\"user X product f\", len(userXproduct))\n",
    "\n",
    "    del priors\n",
    "\n",
    "    return userXproduct"
   ]
  },
  {
   "cell_type": "code",
   "execution_count": null,
   "metadata": {},
   "outputs": [],
   "source": [
    "userXproduct = get_userXproduct_features(priors)"
   ]
  },
  {
   "cell_type": "code",
   "execution_count": null,
   "metadata": {},
   "outputs": [],
   "source": [
    "userXproduct"
   ]
  },
  {
   "cell_type": "markdown",
   "metadata": {},
   "source": [
    "Формирование датасета"
   ]
  },
  {
   "cell_type": "code",
   "execution_count": 1,
   "metadata": {},
   "outputs": [],
   "source": [
    "def get_all_features(\n",
    "    selected_orders, orders, userXproduct, users, products, train, labels_given=False\n",
    "):\n",
    "    order_list = []\n",
    "    product_list = []\n",
    "    labels = []\n",
    "    i = 0\n",
    "\n",
    "    for row in selected_orders.itertuples():\n",
    "        i += 1\n",
    "        if i % 10000 == 0:\n",
    "            print(\"order row\", i)\n",
    "        order_id = row.order_id\n",
    "        user_id = row.user_id\n",
    "        user_products = users.all_products[user_id]\n",
    "        product_list += user_products\n",
    "        order_list += [order_id] * len(user_products)\n",
    "\n",
    "        # Формирование таргета (1 если продукт есть в истории заказов пользователя, 0 - иначе)\n",
    "\n",
    "        if labels_given:\n",
    "            labels += [(order_id, product) in train.index for product in user_products]\n",
    "\n",
    "    # Создание датафрейма с номерами заказов и всеми продуктами, которые заказывал пользователь, относящийся к этому заказу\n",
    "\n",
    "    df = pd.DataFrame(\n",
    "        {\"order_id\": order_list, \"product_id\": product_list}, dtype=np.int32\n",
    "    )\n",
    "    labels = np.array(labels, dtype=np.int8)\n",
    "    del order_list\n",
    "    del product_list\n",
    "\n",
    "    print(\"Добавление фичей пользователя (из users)\")\n",
    "\n",
    "    df[\"user_id\"] = df.order_id.map(orders.user_id)\n",
    "\n",
    "    df[\"user_total_orders\"] = df.user_id.map(users.nb_orders)\n",
    "    df[\"user_total_items\"] = df.user_id.map(users.total_items)\n",
    "    df[\"total_distinct_items\"] = df.user_id.map(users.total_distinct_items)\n",
    "    df[\"user_average_days_between_orders\"] = df.user_id.map(\n",
    "        users.average_days_between_orders\n",
    "    )\n",
    "    df[\"user_average_basket\"] = df.user_id.map(users.average_basket)\n",
    "\n",
    "    print(\"Добавления фичей заказа (из orders)\")\n",
    "\n",
    "    # df['dow'] = df.order_id.map(orders.order_dow)\n",
    "    df[\"order_hour_of_day\"] = df.order_id.map(orders.order_hour_of_day)\n",
    "    df[\"days_since_prior_order\"] = df.order_id.map(orders.days_since_prior_order)\n",
    "    df[\"days_since_ratio\"] = (\n",
    "        df.days_since_prior_order / df.user_average_days_between_orders\n",
    "    )\n",
    "\n",
    "    print(\"Добавление фичей продукта (из products)\")\n",
    "\n",
    "    df[\"aisle_id\"] = df.product_id.map(products.aisle_id)\n",
    "    df[\"department_id\"] = df.product_id.map(products.department_id)\n",
    "    df[\"product_orders\"] = df.product_id.map(products.orders).astype(np.int32)\n",
    "    df[\"product_reorders\"] = df.product_id.map(products.reorders)\n",
    "    df[\"product_reorder_rate\"] = df.product_id.map(products.reorder_rate)\n",
    "\n",
    "    print(\"Добавление фичей пользователь-продукт (из userXproduct)\")\n",
    "\n",
    "    df[\"z\"] = df.user_id * 100000 + df.product_id\n",
    "    df.drop([\"user_id\"], axis=1, inplace=True)\n",
    "\n",
    "    df[\"UP_orders\"] = df.z.map(userXproduct.nb_orders)\n",
    "    df[\"UP_orders_ratio\"] = (df.UP_orders / df.user_total_orders).astype(np.float32)\n",
    "    df[\"UP_last_order_id\"] = df.z.map(userXproduct.last_order_id)\n",
    "    df[\"UP_average_pos_in_cart\"] = (\n",
    "        df.z.map(userXproduct.sum_pos_in_cart) / df.UP_orders\n",
    "    ).astype(np.float32)\n",
    "    df[\"UP_reorder_rate\"] = (df.UP_orders / df.user_total_orders).astype(np.float32)\n",
    "    df[\"UP_orders_since_last\"] = df.user_total_orders - df.UP_last_order_id.map(\n",
    "        orders.order_number\n",
    "    )\n",
    "    df[\"UP_delta_hour_vs_last\"] = (\n",
    "        abs(df.order_hour_of_day - df.UP_last_order_id.map(orders.order_hour_of_day))\n",
    "        .map(lambda x: min(x, 24 - x))\n",
    "        .astype(np.int8)\n",
    "    )\n",
    "\n",
    "    # Убираем точно ненужные столбцы\n",
    "\n",
    "    df.drop([\"UP_last_order_id\"], axis=1, inplace=True)\n",
    "    df.drop([\"z\"], axis=1, inplace=True)\n",
    "\n",
    "    # Выбранные фичи\n",
    "\n",
    "    f_to_use = [\n",
    "        \"user_total_orders\",\n",
    "        \"user_total_items\",\n",
    "        \"total_distinct_items\",\n",
    "        \"user_average_days_between_orders\",\n",
    "        \"user_average_basket\",\n",
    "        \"order_hour_of_day\",\n",
    "        \"days_since_prior_order\",\n",
    "        \"days_since_ratio\",\n",
    "        \"aisle_id\",\n",
    "        \"department_id\",\n",
    "        \"product_orders\",\n",
    "        \"product_reorders\",\n",
    "        \"product_reorder_rate\",\n",
    "        \"UP_orders\",\n",
    "        \"UP_orders_ratio\",\n",
    "        \"UP_average_pos_in_cart\",\n",
    "        \"UP_reorder_rate\",\n",
    "        \"UP_orders_since_last\",\n",
    "        \"UP_delta_hour_vs_last\",\n",
    "    ]\n",
    "\n",
    "    return (df[f_to_use], labels)"
   ]
  },
  {
   "cell_type": "code",
   "execution_count": null,
   "metadata": {},
   "outputs": [],
   "source": [
    "test_orders = orders[orders.eval_set == \"test\"]\n",
    "train_orders = orders[orders.eval_set == \"train\"]\n",
    "\n",
    "train.set_index(\n",
    "    [\"order_id\", \"product_id\"], inplace=True, drop=False\n",
    ")  # order_products__train"
   ]
  },
  {
   "cell_type": "code",
   "execution_count": null,
   "metadata": {},
   "outputs": [],
   "source": [
    "df_train, labels = get_all_features(\n",
    "    train_orders, orders, userXproduct, users, products, train, labels_given=True\n",
    ")\n",
    "\n",
    "train_dataset = lgb.Dataset(\n",
    "    df_train, label=labels, categorical_feature=[\"aisle_id\", \"department_id\"]\n",
    ")\n",
    "\n",
    "del df_train"
   ]
  },
  {
   "cell_type": "markdown",
   "metadata": {},
   "source": [
    "Обучение модели"
   ]
  },
  {
   "cell_type": "code",
   "execution_count": null,
   "metadata": {},
   "outputs": [],
   "source": [
    "def train_model(train_dataset, params={}, rounds=10):\n",
    "\n",
    "    model = lgb.train(params, train_dataset, rounds)\n",
    "    lgb.plot_importance(model, figsize=(6, 8))\n",
    "\n",
    "    del train_dataset\n",
    "\n",
    "    return model"
   ]
  },
  {
   "cell_type": "code",
   "execution_count": null,
   "metadata": {},
   "outputs": [],
   "source": [
    "params = {\n",
    "    \"task\": \"train\",\n",
    "    \"boosting_type\": \"gbdt\",\n",
    "    \"objective\": \"binary\",\n",
    "    \"metric\": {\"binary_logloss\"},\n",
    "    \"num_leaves\": 96,\n",
    "    \"max_depth\": 10,\n",
    "    \"feature_fraction\": 0.9,\n",
    "    \"bagging_fraction\": 0.95,\n",
    "    \"bagging_freq\": 5,\n",
    "}\n",
    "rounds = 10\n",
    "\n",
    "model = train_model(train_dataset, params, rounds)\n",
    "model.save_model(\"./models/baseline\")"
   ]
  },
  {
   "cell_type": "markdown",
   "metadata": {},
   "source": [
    "Тестирование"
   ]
  },
  {
   "cell_type": "code",
   "execution_count": null,
   "metadata": {},
   "outputs": [],
   "source": [
    "def make_submission(df_test, preds):\n",
    "    df_test[\"pred\"] = preds\n",
    "\n",
    "    TRESHOLD = 0.22  # guess, should be tuned with crossval on a subset of train data\n",
    "\n",
    "    d = dict()\n",
    "    for row in df_test.itertuples():\n",
    "        if row.pred > TRESHOLD:\n",
    "            try:\n",
    "                d[row.order_id] += \" \" + str(row.product_id)\n",
    "            except:  # noqa: E722\n",
    "                d[row.order_id] = str(row.product_id)\n",
    "\n",
    "    for order in test_orders.order_id:\n",
    "        if order not in d:\n",
    "            d[order] = \"None\"\n",
    "\n",
    "    sub = pd.DataFrame.from_dict(d, orient=\"index\")\n",
    "\n",
    "    sub.reset_index(inplace=True)\n",
    "    sub.columns = [\"order_id\", \"products\"]\n",
    "    sub.to_csv(\"sub.csv\", index=False)"
   ]
  },
  {
   "cell_type": "code",
   "execution_count": null,
   "metadata": {},
   "outputs": [],
   "source": [
    "df_test, _ = get_all_features(test_orders)\n",
    "preds = model.predict(df_test) # \"вероятности\"\n",
    "\n",
    "make_submission(df_test, preds)"
   ]
  },
  {
   "cell_type": "markdown",
   "metadata": {},
   "source": [
    "Инференс"
   ]
  },
  {
   "cell_type": "code",
   "execution_count": null,
   "metadata": {},
   "outputs": [],
   "source": [
    "class RecommendationModel:\n",
    "    def __init__(\n",
    "        self,\n",
    "        orders_df: pd.DataFrame,\n",
    "        order_products_df: pd.DataFrame,\n",
    "        top_k_products: int = 100,\n",
    "        recommendations_n: int = 10,\n",
    "    ):\n",
    "        self.orders = orders_df\n",
    "        self.order_products = order_products_df\n",
    "        self.top_k_products = top_k_products\n",
    "        self.recommendations_n = recommendations_n\n",
    "\n",
    "        self.products_agg = (\n",
    "            self.order_products.groupby(\"product_id\")\n",
    "            .agg(\n",
    "                {\n",
    "                    \"reordered\": \"mean\",\n",
    "                }\n",
    "            )\n",
    "            .rename(\n",
    "                columns={\n",
    "                    \"reordered\": \"product_reorder_rate\",\n",
    "                }\n",
    "            )\n",
    "        )\n",
    "        self.products_agg.reset_index(inplace=True)\n",
    "\n",
    "        self.top_reordered_products = (\n",
    "            self.products_agg.sort_values(by=\"product_reorder_rate\", ascending=False)\n",
    "            .head(top_k_products)[\"product_id\"]\n",
    "            .tolist()\n",
    "        )\n",
    "\n",
    "    def _get_user_candidates(self, user_id):\n",
    "        # Получаем последние заказы пользователя\n",
    "        user_orders = self.orders[self.orders[\"user_id\"] == user_id]\n",
    "        prior_orders = user_orders[user_orders[\"eval_set\"] == \"prior\"]\n",
    "\n",
    "        if prior_orders.empty:\n",
    "            return self.top_reordered_products\n",
    "\n",
    "        # Товары из последних заказов пользователя\n",
    "        last_order_products = self.order_products[\n",
    "            self.order_products[\"order_id\"].isin(prior_orders[\"order_id\"])\n",
    "        ][\"product_id\"].tolist()\n",
    "\n",
    "        # Комбинируем с топ-товарами\n",
    "        candidates = list(set(last_order_products + self.top_reordered_products))\n",
    "        return candidates\n",
    "\n",
    "    def predict(self, user_id):\n",
    "        # Получаем список кандидатов для пользователя\n",
    "        candidates = self._get_user_candidates(user_id)\n",
    "\n",
    "        # Составляем DataFrame с фичами для кандидатов\n",
    "        features = self._generate_features(user_id, candidates)\n",
    "\n",
    "        # Замените self.model.predict(features) на вашу обученную ML-модель\n",
    "        predictions = np.random.rand(len(features))  # пример случайного предсказания\n",
    "\n",
    "        # Ранжируем по предсказанным вероятностям и возвращаем топ-N\n",
    "        top_indices = predictions.argsort()[-self.recommendations_n :][::-1]\n",
    "        recommended_products = [candidates[i] for i in top_indices]\n",
    "        return recommended_products\n",
    "\n",
    "    def _generate_features(self, user_id, candidates):\n",
    "        # Пример генерации фичей (замените на свои):\n",
    "        features = pd.DataFrame({\"product_id\": candidates})\n",
    "        features[\"product_reorder_rate\"] = features[\"product_id\"].map(\n",
    "            self.products_agg.set_index(\"product_id\")[\"product_reorder_rate\"]\n",
    "        )\n",
    "        # Добавьте больше фичей, если нужно\n",
    "        return features"
   ]
  },
  {
   "cell_type": "code",
   "execution_count": null,
   "metadata": {},
   "outputs": [],
   "source": [
    "rec_model = RecommendationModel(orders_df, order_products_df)"
   ]
  },
  {
   "cell_type": "code",
   "execution_count": null,
   "metadata": {},
   "outputs": [],
   "source": []
  },
  {
   "cell_type": "code",
   "execution_count": null,
   "metadata": {},
   "outputs": [],
   "source": []
  },
  {
   "cell_type": "code",
   "execution_count": null,
   "metadata": {},
   "outputs": [],
   "source": []
  },
  {
   "cell_type": "code",
   "execution_count": null,
   "metadata": {},
   "outputs": [],
   "source": []
  },
  {
   "cell_type": "code",
   "execution_count": null,
   "metadata": {},
   "outputs": [],
   "source": []
  },
  {
   "cell_type": "code",
   "execution_count": null,
   "metadata": {},
   "outputs": [],
   "source": []
  }
 ],
 "metadata": {
  "kernelspec": {
   "display_name": "venv",
   "language": "python",
   "name": "python3"
  },
  "language_info": {
   "codemirror_mode": {
    "name": "ipython",
    "version": 3
   },
   "file_extension": ".py",
   "mimetype": "text/x-python",
   "name": "python",
   "nbconvert_exporter": "python",
   "pygments_lexer": "ipython3",
   "version": "3.10.12"
  }
 },
 "nbformat": 4,
 "nbformat_minor": 2
}
